{
  "nbformat": 4,
  "nbformat_minor": 0,
  "metadata": {
    "colab": {
      "provenance": [],
      "authorship_tag": "ABX9TyM21pKDKMMYulMAXOd+mFiK",
      "include_colab_link": true
    },
    "kernelspec": {
      "name": "python3",
      "display_name": "Python 3"
    },
    "language_info": {
      "name": "python"
    }
  },
  "cells": [
    {
      "cell_type": "markdown",
      "metadata": {
        "id": "view-in-github",
        "colab_type": "text"
      },
      "source": [
        "<a href=\"https://colab.research.google.com/github/lmcanavals/compilers/blob/main/0201_introlex.ipynb\" target=\"_parent\"><img src=\"https://colab.research.google.com/assets/colab-badge.svg\" alt=\"Open In Colab\"/></a>"
      ]
    },
    {
      "cell_type": "code",
      "execution_count": null,
      "metadata": {
        "colab": {
          "base_uri": "https://localhost:8080/"
        },
        "id": "dnyjxv9G7Ge-",
        "outputId": "f85f7292-a2d5-4553-82df-53cec86fd8c6"
      },
      "outputs": [
        {
          "output_type": "stream",
          "name": "stdout",
          "text": [
            "Overwriting scanner1.cpp\n"
          ]
        }
      ],
      "source": [
        "%%file commandline.cpp\n",
        "#include <iostream>\n",
        "#include <fstream>\n",
        "\n",
        "using namespace std;\n",
        "\n",
        "int main(int argc, char** argv) {\n",
        "    for (int i = 0; i < argc; ++i) {\n",
        "        cout << \"Argumento \" << i << \": \" <<  argv[i] << endl;\n",
        "    }\n",
        "    return 0;\n",
        "}"
      ]
    },
    {
      "cell_type": "markdown",
      "source": [
        "Compilamos el programa con gcc, el compilador para c++ se llama g++"
      ],
      "metadata": {
        "id": "cmPNjDGW7mUt"
      }
    },
    {
      "cell_type": "code",
      "source": [
        "!g++ commandline.cpp"
      ],
      "metadata": {
        "id": "F-hXyvof7TsI"
      },
      "execution_count": null,
      "outputs": []
    },
    {
      "cell_type": "markdown",
      "source": [
        "En linux listamos los archivos en la carpeta actual con ls -l, nótese que se ha creado el archivo a.out (en caso de linux o a.exe en caso de windows)"
      ],
      "metadata": {
        "id": "42UXb_e871Mm"
      }
    },
    {
      "cell_type": "code",
      "source": [
        "!ls -l"
      ],
      "metadata": {
        "colab": {
          "base_uri": "https://localhost:8080/"
        },
        "id": "7lO1D_Pt7VGu",
        "outputId": "1682e76d-ddaf-4509-d4b1-68227423b727"
      },
      "execution_count": null,
      "outputs": [
        {
          "output_type": "stream",
          "name": "stdout",
          "text": [
            "total 20\n",
            "-rwxr-xr-x 1 root root 8976 Sep  2 20:45 a.out\n",
            "drwxr-xr-x 1 root root 4096 Aug 31 13:47 sample_data\n",
            "-rw-r--r-- 1 root root  218 Sep  2 20:45 scanner1.cpp\n"
          ]
        }
      ]
    },
    {
      "cell_type": "markdown",
      "source": [
        "Ejecutamos en línea de comandos, colocando argumentos delante del programa, los cuales seran leidos en argv."
      ],
      "metadata": {
        "id": "A-cEYSuj8Ucj"
      }
    },
    {
      "cell_type": "code",
      "source": [
        "!./a.out hola estos son los parametros en linea de comandos, es decir cada cosa que pongamos delante \"incluso puedo poner varias cosas con comillas\""
      ],
      "metadata": {
        "colab": {
          "base_uri": "https://localhost:8080/"
        },
        "id": "N--ZvNmq7-9M",
        "outputId": "46412bc3-523c-4737-9d3b-2aad14954294"
      },
      "execution_count": null,
      "outputs": [
        {
          "output_type": "stream",
          "name": "stdout",
          "text": [
            "Argumento 0: ./a.out\n",
            "Argumento 1: hola\n",
            "Argumento 2: estos\n",
            "Argumento 3: son\n",
            "Argumento 4: los\n",
            "Argumento 5: parametros\n",
            "Argumento 6: en\n",
            "Argumento 7: linea\n",
            "Argumento 8: de\n",
            "Argumento 9: comandos,\n",
            "Argumento 10: es\n",
            "Argumento 11: decir\n",
            "Argumento 12: cada\n",
            "Argumento 13: cosa\n",
            "Argumento 14: que\n",
            "Argumento 15: pongamos\n",
            "Argumento 16: delante\n",
            "Argumento 17: incluso puedo poner varias cosas con comillas\n"
          ]
        }
      ]
    },
    {
      "cell_type": "code",
      "source": [
        "!./a.out"
      ],
      "metadata": {
        "colab": {
          "base_uri": "https://localhost:8080/"
        },
        "id": "Rrem6K9D8jiy",
        "outputId": "33d44d19-02bb-4350-b509-ca3d77bd5583"
      },
      "execution_count": null,
      "outputs": [
        {
          "output_type": "stream",
          "name": "stdout",
          "text": [
            "Argumento 0: ./a.out\n"
          ]
        }
      ]
    },
    {
      "cell_type": "code",
      "source": [
        "%%file scanner1.cpp\n",
        "#include <iostream>\n",
        "#include <fstream>\n",
        "\n",
        "using namespace std;\n",
        "\n",
        "int main(int argc, char** argv) {\n",
        "    if (argc < 2) {\n",
        "        cerr << \"Usage: \" << argv[0] << \" programafuente\\n\";\n",
        "        return -1;\n",
        "    }\n",
        "\n",
        "    ifstream f(argv[1]);\n",
        "\n",
        "    char c;\n",
        "    while (f.get(c)) {\n",
        "        cout << c << endl;\n",
        "    }\n",
        "    \n",
        "    f.close();\n",
        "    return 0;\n",
        "}"
      ],
      "metadata": {
        "colab": {
          "base_uri": "https://localhost:8080/"
        },
        "id": "SZ1sQx0t8raz",
        "outputId": "52d9cdd9-8464-4559-9c5d-495eaf59a2ad"
      },
      "execution_count": null,
      "outputs": [
        {
          "output_type": "stream",
          "name": "stdout",
          "text": [
            "Overwriting scanner1.cpp\n"
          ]
        }
      ]
    },
    {
      "cell_type": "code",
      "source": [
        "!g++ scanner1.cpp && ./a.out scanner1.cpp"
      ],
      "metadata": {
        "id": "lAqW80Yv9-7f"
      },
      "execution_count": null,
      "outputs": []
    },
    {
      "cell_type": "markdown",
      "source": [
        "## Flex"
      ],
      "metadata": {
        "id": "UbPHAevCUcRP"
      }
    },
    {
      "cell_type": "code",
      "source": [
        "!sudo apt install flex"
      ],
      "metadata": {
        "id": "hVPP1so9-Dg3"
      },
      "execution_count": null,
      "outputs": []
    },
    {
      "cell_type": "code",
      "source": [
        "%%file simple1.l\n",
        "%%\n",
        "username    printf( \"%s\", getlogin() );\n",
        "\n"
      ],
      "metadata": {
        "colab": {
          "base_uri": "https://localhost:8080/"
        },
        "id": "a0rtV6MJUffG",
        "outputId": "e0ff8f0a-864a-4b0e-fb9e-dacf8134d35c"
      },
      "execution_count": 31,
      "outputs": [
        {
          "output_type": "stream",
          "name": "stdout",
          "text": [
            "Writing simple1.l\n"
          ]
        }
      ]
    },
    {
      "cell_type": "code",
      "source": [
        "!flex simple1.l"
      ],
      "metadata": {
        "id": "mPFpvzumVMEV"
      },
      "execution_count": 32,
      "outputs": []
    },
    {
      "cell_type": "code",
      "source": [
        "!ls -l"
      ],
      "metadata": {
        "id": "t7zvGJuCVStd"
      },
      "execution_count": null,
      "outputs": []
    },
    {
      "cell_type": "code",
      "source": [
        "!gcc lex.yy.c -ll"
      ],
      "metadata": {
        "id": "eIH06ZlpVUBV"
      },
      "execution_count": 35,
      "outputs": []
    },
    {
      "cell_type": "markdown",
      "source": [
        "Primer ejemplo de Flex"
      ],
      "metadata": {
        "id": "G1bx1wmLY4il"
      }
    },
    {
      "cell_type": "code",
      "source": [
        "%%file test\n",
        "hola, username\n",
        "saludos"
      ],
      "metadata": {
        "colab": {
          "base_uri": "https://localhost:8080/"
        },
        "id": "ST3IVtniVgJ9",
        "outputId": "ba92ab71-8bd0-4a20-f58f-104ef71730fa"
      },
      "execution_count": 38,
      "outputs": [
        {
          "output_type": "stream",
          "name": "stdout",
          "text": [
            "Writing test\n"
          ]
        }
      ]
    },
    {
      "cell_type": "code",
      "source": [
        "!./a.out < test"
      ],
      "metadata": {
        "colab": {
          "base_uri": "https://localhost:8080/"
        },
        "id": "RiSwVCT4WXiG",
        "outputId": "8e17d3c8-d950-451a-f027-6aea3bdc4322"
      },
      "execution_count": 39,
      "outputs": [
        {
          "output_type": "stream",
          "name": "stdout",
          "text": [
            "hola, (null)\n",
            "saludos\n"
          ]
        }
      ]
    },
    {
      "cell_type": "code",
      "source": [
        "!whoami"
      ],
      "metadata": {
        "colab": {
          "base_uri": "https://localhost:8080/"
        },
        "id": "qxzhN1L_WtIl",
        "outputId": "a27708fe-30ff-4a4c-8255-1f82bc12a2eb"
      },
      "execution_count": 40,
      "outputs": [
        {
          "output_type": "stream",
          "name": "stdout",
          "text": [
            "root\n"
          ]
        }
      ]
    },
    {
      "cell_type": "markdown",
      "source": [
        "Segundo ejemplo de flex"
      ],
      "metadata": {
        "id": "1nVfwQ1tY7fH"
      }
    },
    {
      "cell_type": "code",
      "source": [
        "%%file simple2.l\n",
        "        int num_lines = 0, num_chars = 0;\n",
        "\n",
        "%%\n",
        "\\n      ++num_lines; ++num_chars;\n",
        ".       ++num_chars;\n",
        "\n",
        "%%\n",
        "int main() {\n",
        "    yylex();\n",
        "    printf( \"# of lines = %d, # of chars = %d\\n\", num_lines, num_chars );\n",
        "\n",
        "    return 0;\n",
        "}"
      ],
      "metadata": {
        "colab": {
          "base_uri": "https://localhost:8080/"
        },
        "id": "TuS0mcpnWwm1",
        "outputId": "6a924665-c648-4d93-939c-84df623ddf4c"
      },
      "execution_count": 41,
      "outputs": [
        {
          "output_type": "stream",
          "name": "stdout",
          "text": [
            "Writing simple2.l\n"
          ]
        }
      ]
    },
    {
      "cell_type": "code",
      "source": [
        "!flex simple2.l && gcc lex.yy.c -ll && ./a.out < simple2.l"
      ],
      "metadata": {
        "colab": {
          "base_uri": "https://localhost:8080/"
        },
        "id": "W_znkPneZJ4k",
        "outputId": "13ba5a7d-f3fa-4f2c-aed6-77d878274103"
      },
      "execution_count": 42,
      "outputs": [
        {
          "output_type": "stream",
          "name": "stdout",
          "text": [
            "# of lines = 13, # of chars = 222\n"
          ]
        }
      ]
    },
    {
      "cell_type": "markdown",
      "source": [
        "Un ejemplo más elaborado"
      ],
      "metadata": {
        "id": "wSajmlxtZ-ks"
      }
    },
    {
      "cell_type": "code",
      "source": [
        "%%file simplepascal.l\n",
        "/* scanner for a toy Pascal-like language */\n",
        "\n",
        "%{\n",
        "/* need this for the call to atof() below */\n",
        "#include <math.h>\n",
        "%}\n",
        "\n",
        "DIGIT    [0-9]\n",
        "ID       [a-z][a-z0-9]*\n",
        "\n",
        "%%\n",
        "\n",
        "{DIGIT}+    {\n",
        "            printf(\"An integer: %s (%d)\\n\", yytext, atoi(yytext));\n",
        "            }\n",
        "\n",
        "{DIGIT}+\".\"{DIGIT}*        {\n",
        "            printf(\"A float: %s (%g)\\n\", yytext, atof(yytext));\n",
        "            }\n",
        "\n",
        "if|then|begin|end|procedure|function        {\n",
        "            printf(\"A keyword: %s\\n\", yytext);\n",
        "            }\n",
        "\n",
        "{ID}        printf(\"An identifier: %s\\n\", yytext);\n",
        "\n",
        "\"+\"|\"-\"|\"*\"|\"/\"   printf( \"An operator: %s\\n\", yytext );\n",
        "\n",
        "\"{\"[^}\\n]*\"}\"     /* eat up one-line comments */\n",
        "\n",
        "[ \\t\\n]+          /* eat up whitespace */\n",
        "\n",
        ".           printf( \"Unrecognized character: %s\\n\", yytext );\n",
        "\n",
        "%%\n",
        "\n",
        "int main(int argc, char** argv) {\n",
        "    ++argv, --argc;  /* skip over program name */\n",
        "    if ( argc > 0 )\n",
        "            yyin = fopen( argv[0], \"r\" );\n",
        "    else\n",
        "            yyin = stdin;\n",
        "\n",
        "    yylex();\n",
        "\n",
        "    return 0;\n",
        "}"
      ],
      "metadata": {
        "colab": {
          "base_uri": "https://localhost:8080/"
        },
        "id": "BDoGwnVnZXBV",
        "outputId": "c3144245-5ede-48af-f9cf-53d26fde3ca0"
      },
      "execution_count": 43,
      "outputs": [
        {
          "output_type": "stream",
          "name": "stdout",
          "text": [
            "Writing simplepascal.l\n"
          ]
        }
      ]
    },
    {
      "cell_type": "code",
      "source": [
        "%%file hola.pas\n",
        "program HelloWorld;\n",
        "uses crt;\n",
        "\n",
        "{ Here the main program block starts }\n",
        "begin\n",
        "   writeln('Hello, World!');\n",
        "   readkey;\n",
        "end. "
      ],
      "metadata": {
        "colab": {
          "base_uri": "https://localhost:8080/"
        },
        "id": "vsGKqJErcd9l",
        "outputId": "81c7934e-1e9c-4201-ff45-0c99dbb15c52"
      },
      "execution_count": 44,
      "outputs": [
        {
          "output_type": "stream",
          "name": "stdout",
          "text": [
            "Writing hola.pas\n"
          ]
        }
      ]
    },
    {
      "cell_type": "code",
      "source": [
        "!flex simplepascal.l && gcc lex.yy.c -ll && ./a.out < hola.pas"
      ],
      "metadata": {
        "colab": {
          "base_uri": "https://localhost:8080/"
        },
        "id": "KWYic29scn0e",
        "outputId": "43bb5251-bd73-42b0-f989-cf295e138bc1"
      },
      "execution_count": 45,
      "outputs": [
        {
          "output_type": "stream",
          "name": "stdout",
          "text": [
            "An identifier: program\n",
            "Unrecognized character: H\n",
            "An identifier: ello\n",
            "Unrecognized character: W\n",
            "An identifier: orld\n",
            "Unrecognized character: ;\n",
            "An identifier: uses\n",
            "An identifier: crt\n",
            "Unrecognized character: ;\n",
            "A keyword: begin\n",
            "An identifier: writeln\n",
            "Unrecognized character: (\n",
            "Unrecognized character: '\n",
            "Unrecognized character: H\n",
            "An identifier: ello\n",
            "Unrecognized character: ,\n",
            "Unrecognized character: W\n",
            "An identifier: orld\n",
            "Unrecognized character: !\n",
            "Unrecognized character: '\n",
            "Unrecognized character: )\n",
            "Unrecognized character: ;\n",
            "An identifier: readkey\n",
            "Unrecognized character: ;\n",
            "A keyword: end\n",
            "Unrecognized character: .\n"
          ]
        }
      ]
    },
    {
      "cell_type": "code",
      "source": [],
      "metadata": {
        "id": "mB9IWPc6cuqc"
      },
      "execution_count": null,
      "outputs": []
    }
  ]
}