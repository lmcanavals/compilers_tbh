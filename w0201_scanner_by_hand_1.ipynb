{
  "nbformat": 4,
  "nbformat_minor": 0,
  "metadata": {
    "colab": {
      "provenance": [],
      "authorship_tag": "ABX9TyNNVNbke9z0wEX2VpZaLgek",
      "include_colab_link": true
    },
    "kernelspec": {
      "name": "python3",
      "display_name": "Python 3"
    },
    "language_info": {
      "name": "python"
    }
  },
  "cells": [
    {
      "cell_type": "markdown",
      "metadata": {
        "id": "view-in-github",
        "colab_type": "text"
      },
      "source": [
        "<a href=\"https://colab.research.google.com/github/lmcanavals/compilers/blob/main/w0201_scanner_by_hand_1.ipynb\" target=\"_parent\"><img src=\"https://colab.research.google.com/assets/colab-badge.svg\" alt=\"Open In Colab\"/></a>"
      ]
    },
    {
      "cell_type": "code",
      "execution_count": 2,
      "metadata": {
        "colab": {
          "base_uri": "https://localhost:8080/"
        },
        "id": "cqNkP9V_y4QE",
        "outputId": "d41deda6-93bc-41a9-9c3a-36e7ee6d1a0e"
      },
      "outputs": [
        {
          "output_type": "stream",
          "name": "stdout",
          "text": [
            "anscombe.json\t\t      mnist_test.csv\n",
            "california_housing_test.csv   mnist_train_small.csv\n",
            "california_housing_train.csv  README.md\n"
          ]
        }
      ],
      "source": [
        "!ls sample_data/"
      ]
    },
    {
      "cell_type": "code",
      "source": [
        "!gcc --version"
      ],
      "metadata": {
        "colab": {
          "base_uri": "https://localhost:8080/"
        },
        "id": "-cZvegk0zF2c",
        "outputId": "e7798dd2-ae5d-4a4a-cd8b-48ad0fe88b03"
      },
      "execution_count": 4,
      "outputs": [
        {
          "output_type": "stream",
          "name": "stdout",
          "text": [
            "gcc (Ubuntu 9.4.0-1ubuntu1~20.04.1) 9.4.0\n",
            "Copyright (C) 2019 Free Software Foundation, Inc.\n",
            "This is free software; see the source for copying conditions.  There is NO\n",
            "warranty; not even for MERCHANTABILITY or FITNESS FOR A PARTICULAR PURPOSE.\n",
            "\n"
          ]
        }
      ]
    },
    {
      "cell_type": "code",
      "source": [
        "!g++ --version"
      ],
      "metadata": {
        "colab": {
          "base_uri": "https://localhost:8080/"
        },
        "id": "MwQX0uY_zOMz",
        "outputId": "fdfd8b3b-3274-4ab0-d28e-5c9bcd29f336"
      },
      "execution_count": 5,
      "outputs": [
        {
          "output_type": "stream",
          "name": "stdout",
          "text": [
            "g++ (Ubuntu 9.4.0-1ubuntu1~20.04.1) 9.4.0\n",
            "Copyright (C) 2019 Free Software Foundation, Inc.\n",
            "This is free software; see the source for copying conditions.  There is NO\n",
            "warranty; not even for MERCHANTABILITY or FITNESS FOR A PARTICULAR PURPOSE.\n",
            "\n"
          ]
        }
      ]
    },
    {
      "cell_type": "code",
      "source": [
        "%%file scanner1.cpp\n",
        "#include <iostream>\n",
        "\n",
        "#define START 0\n",
        "\n",
        "using namespace std;\n",
        "\n",
        "int main() {\n",
        "\n",
        "    char c;\n",
        "    int state = 0;\n",
        "    while (cin.get(c)) {\n",
        "        switch (state) {\n",
        "        case START:\n",
        "            switch (c) {\n",
        "            case '<': state = 1; continue;\n",
        "            case '=': state = 5; continue;\n",
        "            case '>': state = 6; continue;\n",
        "            case ' ': case '\\t': case '\\n': continue;\n",
        "            default: cout << \"UNKNOWN TOKEN\\n\"; continue;\n",
        "            }\n",
        "            break;\n",
        "        case 1:\n",
        "            switch (c) {\n",
        "            case '=': state = 2; continue;\n",
        "            case '>': state = 3; continue;\n",
        "            default: state = 4; continue;\n",
        "            }\n",
        "            break;\n",
        "        case 2: cout << \"relop LE\\n\"; state = 0; continue;\n",
        "        case 3: cout << \"relop NE\\n\"; state = 0; continue;\n",
        "        case 4: cout << \"relop LT\\n\"; state = 0; cin.putback(c); continue;\n",
        "        case 5: cout << \"relop EQ\\n\"; state = 0; continue;\n",
        "        case 6:\n",
        "            switch (c) {\n",
        "            case '=': state = 7; continue;\n",
        "            default: state = 8; continue;\n",
        "            }\n",
        "        case 7: cout << \"relop GE\\n\"; state = 0; continue;\n",
        "        case 8:  cout << \"relop GT\\n\"; state = 0; cin.putback(c); continue;\n",
        "        }\n",
        "    }\n",
        "\n",
        "    return 0;\n",
        "}"
      ],
      "metadata": {
        "colab": {
          "base_uri": "https://localhost:8080/"
        },
        "id": "qEq0yPHXzUyz",
        "outputId": "f3fea401-ef33-4336-da85-3d37c729864f"
      },
      "execution_count": 17,
      "outputs": [
        {
          "output_type": "stream",
          "name": "stdout",
          "text": [
            "Overwriting scanner1.cpp\n"
          ]
        }
      ]
    },
    {
      "cell_type": "code",
      "source": [
        "%%file 1.in\n",
        "1 > 2\n",
        "3 <= 10\n",
        "5 = 6\n",
        "> < <> <= >= ="
      ],
      "metadata": {
        "colab": {
          "base_uri": "https://localhost:8080/"
        },
        "id": "VKsYMmAS0YYY",
        "outputId": "286c6c7d-c421-4231-800a-6bec20cf3cbb"
      },
      "execution_count": 14,
      "outputs": [
        {
          "output_type": "stream",
          "name": "stdout",
          "text": [
            "Overwriting 1.in\n"
          ]
        }
      ]
    },
    {
      "cell_type": "code",
      "source": [
        "!g++ scanner1.cpp"
      ],
      "metadata": {
        "id": "du7K-DoH0h99"
      },
      "execution_count": 19,
      "outputs": []
    },
    {
      "cell_type": "code",
      "source": [
        "!./a.out < 1.in"
      ],
      "metadata": {
        "colab": {
          "base_uri": "https://localhost:8080/"
        },
        "id": "ehev_0FA0kF9",
        "outputId": "7518043d-b130-4b99-ffc1-969a18d6120b"
      },
      "execution_count": 20,
      "outputs": [
        {
          "output_type": "stream",
          "name": "stdout",
          "text": [
            "UNKNOWN TOKEN\n",
            "relop GT\n",
            "UNKNOWN TOKEN\n",
            "UNKNOWN TOKEN\n",
            "relop LE\n",
            "UNKNOWN TOKEN\n",
            "UNKNOWN TOKEN\n",
            "UNKNOWN TOKEN\n",
            "relop EQ\n",
            "UNKNOWN TOKEN\n",
            "relop GT\n",
            "relop LT\n",
            "relop NE\n",
            "relop LE\n",
            "relop GE\n",
            "relop EQ\n"
          ]
        }
      ]
    },
    {
      "cell_type": "code",
      "source": [],
      "metadata": {
        "id": "azd1F_1n0qta"
      },
      "execution_count": null,
      "outputs": []
    }
  ]
}